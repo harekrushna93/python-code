{
 "cells": [
  {
   "cell_type": "markdown",
   "id": "c7296ece",
   "metadata": {},
   "source": [
    "# Harekrushna sahu, 21-14-14"
   ]
  },
  {
   "cell_type": "markdown",
   "id": "6c314dd3",
   "metadata": {},
   "source": [
    "# Q1"
   ]
  },
  {
   "cell_type": "code",
   "execution_count": 1,
   "id": "c7bf76f4",
   "metadata": {},
   "outputs": [
    {
     "name": "stdout",
     "output_type": "stream",
     "text": [
      "enter two numbers by space:5 2.6\n",
      "sum of two numbers is: 7.6\n"
     ]
    }
   ],
   "source": [
    "x, y =[float(i) for i in input('enter two numbers by space:').split()]\n",
    "print('sum of two numbers is:',x+y)"
   ]
  },
  {
   "cell_type": "markdown",
   "id": "3e9117d2",
   "metadata": {},
   "source": [
    "# Q2"
   ]
  },
  {
   "cell_type": "code",
   "execution_count": 8,
   "id": "4d955ba8",
   "metadata": {},
   "outputs": [
    {
     "name": "stdout",
     "output_type": "stream",
     "text": [
      "Grade is \"F\"\n"
     ]
    }
   ],
   "source": [
    "def grade(mark):\n",
    "    if mark>=90:\n",
    "        print('Grade is \"O\"')\n",
    "    elif mark>=80:\n",
    "        print('Grade is \"A\"')\n",
    "    elif mark>=70:\n",
    "        print('Grade is \"B\"')\n",
    "    elif mark>=60:\n",
    "        print('Grade is \"c\"')\n",
    "    else:\n",
    "        print('Grade is \"F\"')\n",
    "grade(45)"
   ]
  },
  {
   "cell_type": "markdown",
   "id": "1ae89411",
   "metadata": {},
   "source": [
    "# Q3"
   ]
  },
  {
   "cell_type": "code",
   "execution_count": 9,
   "id": "6d3d3c96",
   "metadata": {},
   "outputs": [
    {
     "name": "stdout",
     "output_type": "stream",
     "text": [
      "enter three numbers:5 63 2.3\n",
      "largest among three numbers is: 63.0\n"
     ]
    }
   ],
   "source": [
    "x,y,z = [float(i) for i in input('enter three numbers:').split()]\n",
    "print('largest among three numbers is:',max(x,y,z))"
   ]
  },
  {
   "cell_type": "markdown",
   "id": "eb975fdd",
   "metadata": {},
   "source": [
    "# Q4"
   ]
  },
  {
   "cell_type": "code",
   "execution_count": 10,
   "id": "256e51d6",
   "metadata": {},
   "outputs": [
    {
     "name": "stdout",
     "output_type": "stream",
     "text": [
      "enter how many lines you requred:5\n",
      "* \n",
      "* * \n",
      "* * * \n",
      "* * * * \n",
      "* * * * * \n"
     ]
    }
   ],
   "source": [
    "x = int(input('enter how many lines you requred:'))\n",
    "for i in range(x):\n",
    "    for j in range(i+1):\n",
    "        print('*',end = ' ')\n",
    "    print()"
   ]
  },
  {
   "cell_type": "markdown",
   "id": "c34cd681",
   "metadata": {},
   "source": [
    "# Q5"
   ]
  },
  {
   "cell_type": "code",
   "execution_count": 13,
   "id": "d6513ba9",
   "metadata": {},
   "outputs": [
    {
     "name": "stdout",
     "output_type": "stream",
     "text": [
      "Enter diamond's height: 3\n",
      "    *\n",
      "   ***\n",
      "  *****\n",
      "   ***\n",
      "    *\n"
     ]
    }
   ],
   "source": [
    "h = eval(input(\"Enter diamond's height: \"))\n",
    "for x in range(h):\n",
    "    print(\" \" * (h - x), \"*\" * (2*x + 1))\n",
    "for x in range(h - 2, -1, -1):\n",
    "    print(\" \" * (h - x), \"*\" * (2*x + 1))"
   ]
  },
  {
   "cell_type": "markdown",
   "id": "9632f031",
   "metadata": {},
   "source": [
    "# Q6"
   ]
  },
  {
   "cell_type": "code",
   "execution_count": 14,
   "id": "9ee30e66",
   "metadata": {},
   "outputs": [
    {
     "name": "stdout",
     "output_type": "stream",
     "text": [
      "\n",
      "*\n",
      "**\n",
      "***\n",
      "**\n",
      "*\n"
     ]
    }
   ],
   "source": [
    "h = 3\n",
    "for i in range (h+1):\n",
    "    print('*'*i)\n",
    "for i in range(h-1,0,-1):\n",
    "    print('*'*i)"
   ]
  },
  {
   "cell_type": "markdown",
   "id": "594ade5c",
   "metadata": {},
   "source": [
    "# Q7"
   ]
  },
  {
   "cell_type": "code",
   "execution_count": 15,
   "id": "8be69f8e",
   "metadata": {},
   "outputs": [
    {
     "name": "stdout",
     "output_type": "stream",
     "text": [
      "length is: 8\n",
      "element at index 0 is: 10\n"
     ]
    }
   ],
   "source": [
    "list = [10,2,3,'s',8,-0.8,'DIAT',(2,7)]\n",
    "print('length is:',len(list))\n",
    "print('element at index 0 is:',list[0])"
   ]
  },
  {
   "cell_type": "code",
   "execution_count": 16,
   "id": "d91bce17",
   "metadata": {},
   "outputs": [
    {
     "data": {
      "text/plain": [
       "[10, 2, 3, 's', 8, -0.8, 'DIAT', (2, 7), 'add']"
      ]
     },
     "execution_count": 16,
     "metadata": {},
     "output_type": "execute_result"
    }
   ],
   "source": [
    "#adding an element to the list using + operator\n",
    "list+['add']"
   ]
  },
  {
   "cell_type": "code",
   "execution_count": 17,
   "id": "8e7cdc5b",
   "metadata": {},
   "outputs": [
    {
     "data": {
      "text/plain": [
       "[10, 2, 3, 's', 8, -0.8, 'DIAT', (2, 7), 999]"
      ]
     },
     "execution_count": 17,
     "metadata": {},
     "output_type": "execute_result"
    }
   ],
   "source": [
    "list.append(999)\n",
    "list"
   ]
  },
  {
   "cell_type": "code",
   "execution_count": 18,
   "id": "0cc51e32",
   "metadata": {},
   "outputs": [
    {
     "data": {
      "text/plain": [
       "[-0.8, 'DIAT']"
      ]
     },
     "execution_count": 18,
     "metadata": {},
     "output_type": "execute_result"
    }
   ],
   "source": [
    "list[-4:-2]"
   ]
  },
  {
   "cell_type": "code",
   "execution_count": 19,
   "id": "6eca8b25",
   "metadata": {},
   "outputs": [
    {
     "data": {
      "text/plain": [
       "['a', 10, 2, 3, 's', 8, -0.8, 'DIAT', (2, 7), 999]"
      ]
     },
     "execution_count": 19,
     "metadata": {},
     "output_type": "execute_result"
    }
   ],
   "source": [
    "list.insert(0,'a')\n",
    "list"
   ]
  },
  {
   "cell_type": "code",
   "execution_count": 20,
   "id": "887f30df",
   "metadata": {},
   "outputs": [
    {
     "data": {
      "text/plain": [
       "[10, 2, 3, 's', 8, -0.8, 'DIAT', (2, 7), 999]"
      ]
     },
     "execution_count": 20,
     "metadata": {},
     "output_type": "execute_result"
    }
   ],
   "source": [
    "list.remove('a')\n",
    "list"
   ]
  },
  {
   "cell_type": "code",
   "execution_count": 21,
   "id": "5a3d9e7d",
   "metadata": {},
   "outputs": [
    {
     "data": {
      "text/plain": [
       "[999, (2, 7), 'DIAT', -0.8, 8, 's', 3, 2, 10]"
      ]
     },
     "execution_count": 21,
     "metadata": {},
     "output_type": "execute_result"
    }
   ],
   "source": [
    "rlist = list[::-1]\n",
    "rlist"
   ]
  },
  {
   "cell_type": "code",
   "execution_count": 22,
   "id": "c1652c7d",
   "metadata": {},
   "outputs": [
    {
     "name": "stdout",
     "output_type": "stream",
     "text": [
      "[-55, -3, 0, 0.8009, 0.999, 2, 4, 5, 7, 9]\n"
     ]
    }
   ],
   "source": [
    "nlist = [2,4,7,9,0,-3,5,-55,0.999,0.8009]\n",
    "nlist.sort()\n",
    "print(nlist)"
   ]
  },
  {
   "cell_type": "markdown",
   "id": "73ebcc38",
   "metadata": {},
   "source": [
    "# Q8"
   ]
  },
  {
   "cell_type": "markdown",
   "id": "ec6b8169",
   "metadata": {},
   "source": [
    "#dictionaries"
   ]
  },
  {
   "cell_type": "code",
   "execution_count": 32,
   "id": "42286e2b",
   "metadata": {},
   "outputs": [
    {
     "data": {
      "text/plain": [
       "{'diat': 62, 'krishna': 14, 21: 148}"
      ]
     },
     "execution_count": 32,
     "metadata": {},
     "output_type": "execute_result"
    }
   ],
   "source": [
    "dict = {'diat':62, 'krishna':14, 21:148}\n",
    "dict"
   ]
  },
  {
   "cell_type": "code",
   "execution_count": 33,
   "id": "9c96ebdb",
   "metadata": {},
   "outputs": [
    {
     "data": {
      "text/plain": [
       "{'diat': 62, 'krishna': 14, 21: 148, 'chiku': 26}"
      ]
     },
     "execution_count": 33,
     "metadata": {},
     "output_type": "execute_result"
    }
   ],
   "source": [
    "dict['chiku'] = 26\n",
    "dict "
   ]
  },
  {
   "cell_type": "code",
   "execution_count": 34,
   "id": "665446e3",
   "metadata": {
    "scrolled": true
   },
   "outputs": [
    {
     "data": {
      "text/plain": [
       "{'diat': 62, 'krishna': 14, 'chiku': 26}"
      ]
     },
     "execution_count": 34,
     "metadata": {},
     "output_type": "execute_result"
    }
   ],
   "source": [
    "del dict[21]\n",
    "dict"
   ]
  },
  {
   "cell_type": "code",
   "execution_count": 35,
   "id": "e0172eb4",
   "metadata": {
    "scrolled": true
   },
   "outputs": [
    {
     "data": {
      "text/plain": [
       "{'diat': 62, 'krishna': 14, 'chiku': 26}"
      ]
     },
     "execution_count": 35,
     "metadata": {},
     "output_type": "execute_result"
    }
   ],
   "source": [
    "dict"
   ]
  },
  {
   "cell_type": "code",
   "execution_count": 36,
   "id": "ad32a7cb",
   "metadata": {},
   "outputs": [
    {
     "data": {
      "text/plain": [
       "True"
      ]
     },
     "execution_count": 36,
     "metadata": {},
     "output_type": "execute_result"
    }
   ],
   "source": [
    "'krishna' in dict"
   ]
  },
  {
   "cell_type": "code",
   "execution_count": 37,
   "id": "d08c0f26",
   "metadata": {},
   "outputs": [
    {
     "data": {
      "text/plain": [
       "dict_keys(['diat', 'krishna', 'chiku'])"
      ]
     },
     "execution_count": 37,
     "metadata": {},
     "output_type": "execute_result"
    }
   ],
   "source": [
    "dict.keys()"
   ]
  },
  {
   "cell_type": "code",
   "execution_count": 38,
   "id": "35034a44",
   "metadata": {},
   "outputs": [
    {
     "data": {
      "text/plain": [
       "dict_values([62, 14, 26])"
      ]
     },
     "execution_count": 38,
     "metadata": {},
     "output_type": "execute_result"
    }
   ],
   "source": [
    "dict.values()"
   ]
  },
  {
   "cell_type": "code",
   "execution_count": 39,
   "id": "3f8c1385",
   "metadata": {},
   "outputs": [
    {
     "data": {
      "text/plain": [
       "dict_items([('diat', 62), ('krishna', 14), ('chiku', 26)])"
      ]
     },
     "execution_count": 39,
     "metadata": {},
     "output_type": "execute_result"
    }
   ],
   "source": [
    "dict.items()"
   ]
  },
  {
   "cell_type": "code",
   "execution_count": 40,
   "id": "37fa1608",
   "metadata": {},
   "outputs": [
    {
     "data": {
      "text/plain": [
       "{'diat': 50, 'krishna': 14, 'chiku': 26}"
      ]
     },
     "execution_count": 40,
     "metadata": {},
     "output_type": "execute_result"
    }
   ],
   "source": [
    "dict['diat'] = 50\n",
    "dict"
   ]
  },
  {
   "cell_type": "code",
   "execution_count": 41,
   "id": "df9ac873",
   "metadata": {},
   "outputs": [
    {
     "data": {
      "text/plain": [
       "{'diat': 69, 'krishna': 14, 'chiku': 26}"
      ]
     },
     "execution_count": 41,
     "metadata": {},
     "output_type": "execute_result"
    }
   ],
   "source": [
    "dict.update({'diat':69})\n",
    "dict"
   ]
  },
  {
   "cell_type": "code",
   "execution_count": 42,
   "id": "8e69a86e",
   "metadata": {},
   "outputs": [
    {
     "data": {
      "text/plain": [
       "{'krishna': 14, 'chiku': 26}"
      ]
     },
     "execution_count": 42,
     "metadata": {},
     "output_type": "execute_result"
    }
   ],
   "source": [
    "dict.pop('diat')\n",
    "dict"
   ]
  },
  {
   "cell_type": "code",
   "execution_count": 43,
   "id": "ff84cc18",
   "metadata": {},
   "outputs": [
    {
     "data": {
      "text/plain": [
       "{'krishna': 14, 'chiku': 26, 'DIAT': 59}"
      ]
     },
     "execution_count": 43,
     "metadata": {},
     "output_type": "execute_result"
    }
   ],
   "source": [
    "dict.update({'DIAT':59})\n",
    "dict"
   ]
  },
  {
   "cell_type": "code",
   "execution_count": 44,
   "id": "828f8a82",
   "metadata": {},
   "outputs": [
    {
     "name": "stdout",
     "output_type": "stream",
     "text": [
      "krishna\n",
      "14\n",
      "chiku\n",
      "26\n",
      "DIAT\n",
      "59\n"
     ]
    }
   ],
   "source": [
    "for i in dict:\n",
    "    print(i)\n",
    "    print(dict[i])"
   ]
  },
  {
   "cell_type": "code",
   "execution_count": 45,
   "id": "cbaca405",
   "metadata": {},
   "outputs": [
    {
     "data": {
      "text/plain": [
       "{'krishna': 14, 'chiku': 26, 'DIAT': 59}"
      ]
     },
     "execution_count": 45,
     "metadata": {},
     "output_type": "execute_result"
    }
   ],
   "source": [
    "dict_copy = dict.copy()\n",
    "dict_copy"
   ]
  },
  {
   "cell_type": "code",
   "execution_count": 46,
   "id": "89f92e6b",
   "metadata": {},
   "outputs": [
    {
     "data": {
      "text/plain": [
       "{'krishna': None, 'chiku': None, 'DIAT': None}"
      ]
     },
     "execution_count": 46,
     "metadata": {},
     "output_type": "execute_result"
    }
   ],
   "source": [
    "dict.fromkeys(dict_copy)"
   ]
  },
  {
   "cell_type": "code",
   "execution_count": 47,
   "id": "6d496745",
   "metadata": {},
   "outputs": [
    {
     "data": {
      "text/plain": [
       "{}"
      ]
     },
     "execution_count": 47,
     "metadata": {},
     "output_type": "execute_result"
    }
   ],
   "source": [
    "dict.clear()\n",
    "dict"
   ]
  },
  {
   "cell_type": "markdown",
   "id": "e2d66004",
   "metadata": {},
   "source": [
    "# Q9"
   ]
  },
  {
   "cell_type": "code",
   "execution_count": 48,
   "id": "59b377ed",
   "metadata": {},
   "outputs": [
    {
     "name": "stdout",
     "output_type": "stream",
     "text": [
      "{1, 2, 5, 78, 'dfg'}\n",
      "<class 'set'>\n"
     ]
    }
   ],
   "source": [
    "l = [1,2,'dfg',78,1,2,5]\n",
    "s = set(l)\n",
    "print(s)\n",
    "print(type(s))"
   ]
  },
  {
   "cell_type": "code",
   "execution_count": 49,
   "id": "a66983bb",
   "metadata": {},
   "outputs": [
    {
     "name": "stdout",
     "output_type": "stream",
     "text": [
      "1\n",
      "2\n",
      "5\n",
      "78\n",
      "dfg\n"
     ]
    }
   ],
   "source": [
    "for i in s:\n",
    "    print(i)"
   ]
  },
  {
   "cell_type": "code",
   "execution_count": 50,
   "id": "e83ed6c7",
   "metadata": {},
   "outputs": [
    {
     "data": {
      "text/plain": [
       "{1, 2, 5, 78, 'dfg', 'krishna'}"
      ]
     },
     "execution_count": 50,
     "metadata": {},
     "output_type": "execute_result"
    }
   ],
   "source": [
    "s.add('krishna')\n",
    "s"
   ]
  },
  {
   "cell_type": "code",
   "execution_count": 51,
   "id": "2588cd9b",
   "metadata": {},
   "outputs": [
    {
     "data": {
      "text/plain": [
       "{1, 2, 5, 78, 'dfg', 'krishna', 'prakash', 'shyam'}"
      ]
     },
     "execution_count": 51,
     "metadata": {},
     "output_type": "execute_result"
    }
   ],
   "source": [
    "s1 = {'shyam', 'prakash'}\n",
    "s.update(s1)\n",
    "s"
   ]
  },
  {
   "cell_type": "code",
   "execution_count": 52,
   "id": "7a216a5e",
   "metadata": {},
   "outputs": [
    {
     "data": {
      "text/plain": [
       "{1, 2, 5, 78, 'dfg', 'prakash', 'shyam'}"
      ]
     },
     "execution_count": 52,
     "metadata": {},
     "output_type": "execute_result"
    }
   ],
   "source": [
    "s.remove('krishna')\n",
    "s"
   ]
  },
  {
   "cell_type": "code",
   "execution_count": 53,
   "id": "6f452918",
   "metadata": {},
   "outputs": [
    {
     "data": {
      "text/plain": [
       "{1, 2, 5, 78, 'dfg', 'prakash'}"
      ]
     },
     "execution_count": 53,
     "metadata": {},
     "output_type": "execute_result"
    }
   ],
   "source": [
    "s.discard('shyam')\n",
    "s"
   ]
  },
  {
   "cell_type": "code",
   "execution_count": 54,
   "id": "549353b9",
   "metadata": {},
   "outputs": [
    {
     "data": {
      "text/plain": [
       "{2, 5, 78, 'dfg', 'prakash'}"
      ]
     },
     "execution_count": 54,
     "metadata": {},
     "output_type": "execute_result"
    }
   ],
   "source": [
    "s.pop()\n",
    "s"
   ]
  },
  {
   "cell_type": "code",
   "execution_count": 55,
   "id": "a7569747",
   "metadata": {},
   "outputs": [
    {
     "data": {
      "text/plain": [
       "{2, 5, 56, 78, 'dfg', 'prakash', 'pruthivi', 'saikat'}"
      ]
     },
     "execution_count": 55,
     "metadata": {},
     "output_type": "execute_result"
    }
   ],
   "source": [
    "s2 = {'pruthivi',56,'saikat'}\n",
    "s3 = s.union(s2)\n",
    "s3"
   ]
  },
  {
   "cell_type": "code",
   "execution_count": 56,
   "id": "7d546c60",
   "metadata": {},
   "outputs": [
    {
     "name": "stdout",
     "output_type": "stream",
     "text": [
      "{'prakash'}\n"
     ]
    }
   ],
   "source": [
    "print(s.intersection(s1))"
   ]
  },
  {
   "cell_type": "code",
   "execution_count": 57,
   "id": "5f72c4d8",
   "metadata": {},
   "outputs": [
    {
     "name": "stdout",
     "output_type": "stream",
     "text": [
      "{1, 2, 'prakash', 'dfg'}\n"
     ]
    }
   ],
   "source": [
    "print(s.symmetric_difference({1,78,5}))"
   ]
  },
  {
   "cell_type": "code",
   "execution_count": 58,
   "id": "2464eeae",
   "metadata": {},
   "outputs": [
    {
     "name": "stdout",
     "output_type": "stream",
     "text": [
      "None\n"
     ]
    },
    {
     "data": {
      "text/plain": [
       "set()"
      ]
     },
     "execution_count": 58,
     "metadata": {},
     "output_type": "execute_result"
    }
   ],
   "source": [
    "print(s.clear())\n",
    "s"
   ]
  },
  {
   "cell_type": "code",
   "execution_count": 59,
   "id": "6f2d3d8b",
   "metadata": {},
   "outputs": [],
   "source": [
    "del s"
   ]
  },
  {
   "cell_type": "markdown",
   "id": "6f334699",
   "metadata": {},
   "source": [
    "# Q10"
   ]
  },
  {
   "cell_type": "code",
   "execution_count": 60,
   "id": "c075fc55",
   "metadata": {},
   "outputs": [
    {
     "data": {
      "text/plain": [
       "(3, 5, 6, 'g', True, 'g')"
      ]
     },
     "execution_count": 60,
     "metadata": {},
     "output_type": "execute_result"
    }
   ],
   "source": [
    "t = (3,5,6,'g', True,'g')\n",
    "t"
   ]
  },
  {
   "cell_type": "code",
   "execution_count": 61,
   "id": "2d1155a4",
   "metadata": {},
   "outputs": [
    {
     "data": {
      "text/plain": [
       "(5, 6, 7, 'gh', 'sd')"
      ]
     },
     "execution_count": 61,
     "metadata": {},
     "output_type": "execute_result"
    }
   ],
   "source": [
    "a = [5,6,7,'gh','sd']\n",
    "t1 = tuple(a)\n",
    "t1"
   ]
  },
  {
   "cell_type": "code",
   "execution_count": 62,
   "id": "45dfbd44",
   "metadata": {},
   "outputs": [
    {
     "data": {
      "text/plain": [
       "(5, 6, 7, 'gh', 'sd', 3, 5, 6, 'g', True, 'g')"
      ]
     },
     "execution_count": 62,
     "metadata": {},
     "output_type": "execute_result"
    }
   ],
   "source": [
    "t1 + t"
   ]
  },
  {
   "cell_type": "code",
   "execution_count": 63,
   "id": "5deeff22",
   "metadata": {},
   "outputs": [
    {
     "data": {
      "text/plain": [
       "(3, 5, 6, 'g', True, 'g', 3, 5, 6, 'g', True, 'g')"
      ]
     },
     "execution_count": 63,
     "metadata": {},
     "output_type": "execute_result"
    }
   ],
   "source": [
    "t * 2"
   ]
  },
  {
   "cell_type": "code",
   "execution_count": 64,
   "id": "9d88ad7b",
   "metadata": {},
   "outputs": [
    {
     "data": {
      "text/plain": [
       "2"
      ]
     },
     "execution_count": 64,
     "metadata": {},
     "output_type": "execute_result"
    }
   ],
   "source": [
    "t.count('g')"
   ]
  },
  {
   "cell_type": "code",
   "execution_count": 65,
   "id": "5e6f4a2a",
   "metadata": {},
   "outputs": [
    {
     "data": {
      "text/plain": [
       "4"
      ]
     },
     "execution_count": 65,
     "metadata": {},
     "output_type": "execute_result"
    }
   ],
   "source": [
    "t.index(True)"
   ]
  },
  {
   "cell_type": "markdown",
   "id": "ff0046c8",
   "metadata": {},
   "source": [
    "# Q11"
   ]
  },
  {
   "cell_type": "code",
   "execution_count": 66,
   "id": "be508af7",
   "metadata": {},
   "outputs": [
    {
     "data": {
      "text/plain": [
       "9"
      ]
     },
     "execution_count": 66,
     "metadata": {},
     "output_type": "execute_result"
    }
   ],
   "source": [
    "list = [4,9,3,8,4,45,76,23,78]\n",
    "def median (list):\n",
    "    list.sort()\n",
    "    k = int(len(list)/2)\n",
    "    if len(list)%2 == 0:\n",
    "        m = (list[k-1]+list[(k)])/2\n",
    "    else:\n",
    "        m = list[k]\n",
    "    return m\n",
    "median(list)"
   ]
  },
  {
   "cell_type": "markdown",
   "id": "668805b0",
   "metadata": {},
   "source": [
    "# Q12"
   ]
  },
  {
   "cell_type": "code",
   "execution_count": 67,
   "id": "d19e4d18",
   "metadata": {},
   "outputs": [
    {
     "name": "stdout",
     "output_type": "stream",
     "text": [
      "Mode of List is 8\n"
     ]
    }
   ],
   "source": [
    "list = [1,45,8,57,3,56,8,8,56,88,90,65,8,3,8,8]\n",
    "print(\"Mode of List is\",(max(set(list), key = list.count)))"
   ]
  },
  {
   "cell_type": "markdown",
   "id": "cd500b27",
   "metadata": {},
   "source": [
    "# Q13"
   ]
  },
  {
   "cell_type": "code",
   "execution_count": 68,
   "id": "b2e2eb01",
   "metadata": {},
   "outputs": [
    {
     "name": "stdout",
     "output_type": "stream",
     "text": [
      "Mean of the list is 70.0\n"
     ]
    }
   ],
   "source": [
    "list = [1,45,8,57,3,678,56,8,8,56,88,90,65,8,3,8,8]\n",
    "m = sum(list)/len(list)\n",
    "print(\"Mean of the list is\",m)"
   ]
  },
  {
   "cell_type": "markdown",
   "id": "b0bfbde2",
   "metadata": {},
   "source": [
    "# Q14 "
   ]
  },
  {
   "cell_type": "code",
   "execution_count": 69,
   "id": "6b4caea5",
   "metadata": {},
   "outputs": [
    {
     "data": {
      "text/plain": [
       "[23, 'gh', False, 9877, 876, 9876, 654, True]"
      ]
     },
     "execution_count": 69,
     "metadata": {},
     "output_type": "execute_result"
    }
   ],
   "source": [
    "l1 = [23,'gh',False,9877]\n",
    "l2 = [876,9876,654,True]\n",
    "for element in l2:\n",
    "    l1.append(element)\n",
    "l1"
   ]
  },
  {
   "cell_type": "markdown",
   "id": "6b0fc46b",
   "metadata": {},
   "source": [
    "# Q15"
   ]
  },
  {
   "cell_type": "code",
   "execution_count": 70,
   "id": "b7066613",
   "metadata": {},
   "outputs": [
    {
     "data": {
      "text/plain": [
       "[45, 8, 57, 8, 3, 8]"
      ]
     },
     "execution_count": 70,
     "metadata": {},
     "output_type": "execute_result"
    }
   ],
   "source": [
    "list = [1,45,8,57,3,678,56,8,8,56,88,90,65,8,3,8,8]\n",
    "l = list[1:4] + list[-4:-1]\n",
    "l"
   ]
  },
  {
   "cell_type": "markdown",
   "id": "d5606bd7",
   "metadata": {},
   "source": [
    "# Q16"
   ]
  },
  {
   "cell_type": "code",
   "execution_count": 71,
   "id": "29017ada",
   "metadata": {},
   "outputs": [
    {
     "name": "stdout",
     "output_type": "stream",
     "text": [
      "maximum of list=678, minimum of list=1\n"
     ]
    }
   ],
   "source": [
    "list = [1,45,8,57,3,678,56,8,8,56,88,90,65,8,3,8,8]\n",
    "print('maximum of list={}, minimum of list={}'.format(max(list),min(list)))"
   ]
  },
  {
   "cell_type": "markdown",
   "id": "fb105208",
   "metadata": {},
   "source": [
    "# Q17"
   ]
  },
  {
   "cell_type": "code",
   "execution_count": 119,
   "id": "0f2aa676",
   "metadata": {},
   "outputs": [
    {
     "name": "stdout",
     "output_type": "stream",
     "text": [
      "Element 8 is present in list.\n",
      "number of occurrences is 5\n",
      "index of its first occurrence is 6\n"
     ]
    }
   ],
   "source": [
    "list = [1,45,57,3,678,56,8,8,56,88,90,65,8,3,8,8]\n",
    "def search (list,element):\n",
    "    if element in list:\n",
    "        print('Element {} is present in list.'.format(element))\n",
    "        print('number of occurrences is',list.count(element))\n",
    "        print('index of its first occurrence is',list.index(element))\n",
    "search(list,8)\n",
    "    "
   ]
  },
  {
   "cell_type": "markdown",
   "id": "19cfc75c",
   "metadata": {},
   "source": [
    "# Q18"
   ]
  },
  {
   "cell_type": "code",
   "execution_count": 107,
   "id": "7b117526",
   "metadata": {},
   "outputs": [
    {
     "data": {
      "text/plain": [
       "[[1, 2, 3], [-1, -2, -3], [8, 9, 0]]"
      ]
     },
     "execution_count": 107,
     "metadata": {},
     "output_type": "execute_result"
    }
   ],
   "source": [
    "two_d_list = [[1,2,3],[-1,-2,-3],[8,9,0]]\n",
    "two_d_list"
   ]
  },
  {
   "cell_type": "markdown",
   "id": "ed1674ba",
   "metadata": {},
   "source": [
    "# Q19"
   ]
  },
  {
   "cell_type": "code",
   "execution_count": 117,
   "id": "74c52e9e",
   "metadata": {},
   "outputs": [
    {
     "name": "stdout",
     "output_type": "stream",
     "text": [
      "[1, 2, 3]\n",
      "[-1, -2, -3]\n",
      "[8, 9, 0]\n",
      "[6, 9, 'h', 'j', 9]\n",
      ".....................\n",
      "[1, 2, 3]\n",
      "[-1, -2, -3]\n",
      "[8, 9, 0]\n",
      "[6, 9, 'h', 'j', 9]\n",
      ".....................\n",
      "[1, 2, 3]\n",
      "1\n",
      "2\n",
      "3\n",
      "[-1, -2, -3]\n",
      "-1\n",
      "-2\n",
      "-3\n",
      "[8, 9, 0]\n",
      "8\n",
      "9\n",
      "0\n",
      "[6, 9, 'h', 'j', 9]\n",
      "6\n",
      "9\n",
      "h\n",
      "j\n",
      "9\n"
     ]
    }
   ],
   "source": [
    "list2d = [[1,2,3],[-1,-2,-3],[8,9,0],[6,9,'h','j',9]]\n",
    "#1\n",
    "for element in list2d:\n",
    "    print(element)\n",
    "print(\".....................\")\n",
    "#2\n",
    "for i in range(len(list2d)):\n",
    "    print(list2d[i])\n",
    "print(\".....................\")\n",
    "#3\n",
    "for i in range(len(list2d)):\n",
    "    print(list2d[i])\n",
    "    for element in list2d[i]:\n",
    "        print(element)\n",
    "        "
   ]
  },
  {
   "cell_type": "markdown",
   "id": "e316d335",
   "metadata": {},
   "source": [
    "# Q20"
   ]
  },
  {
   "cell_type": "code",
   "execution_count": 74,
   "id": "209bae83",
   "metadata": {},
   "outputs": [
    {
     "data": {
      "text/plain": [
       "[[0, 1, 2], [1, 2, 3], [2, 3, 4]]"
      ]
     },
     "execution_count": 74,
     "metadata": {},
     "output_type": "execute_result"
    }
   ],
   "source": [
    "d2_list = [[j+i for j in range(3)] for i in range(3)]  \n",
    "d2_list"
   ]
  },
  {
   "cell_type": "code",
   "execution_count": 101,
   "id": "ab08b6ca",
   "metadata": {},
   "outputs": [
    {
     "name": "stdout",
     "output_type": "stream",
     "text": [
      "[1, 45, 8, 57, 3, 678] [56, 8, 8, 56, 88, 90, 65, 8, 78, 3, 8, 8]\n"
     ]
    }
   ],
   "source": [
    "list = [1,45,8,57,3,678,56,8,8,56,88,90,65,8,78,3,8,8]\n",
    "splist1 = list[0:6]\n",
    "splist2 = list[6-len(list):]\n",
    "print(splist1, splist2)"
   ]
  },
  {
   "cell_type": "code",
   "execution_count": 102,
   "id": "3b71cfd3",
   "metadata": {},
   "outputs": [
    {
     "data": {
      "text/plain": [
       "[1, 45, 8, 57, 3, 678, 56, 8, 8, 56, 88, 90, 65, 8, 78, 3, 8, 8]"
      ]
     },
     "execution_count": 102,
     "metadata": {},
     "output_type": "execute_result"
    }
   ],
   "source": [
    "jlist = splist1 + splist2\n",
    "jlist"
   ]
  },
  {
   "cell_type": "code",
   "execution_count": null,
   "id": "3dc11dfb",
   "metadata": {},
   "outputs": [],
   "source": []
  }
 ],
 "metadata": {
  "kernelspec": {
   "display_name": "Python 3",
   "language": "python",
   "name": "python3"
  },
  "language_info": {
   "codemirror_mode": {
    "name": "ipython",
    "version": 3
   },
   "file_extension": ".py",
   "mimetype": "text/x-python",
   "name": "python",
   "nbconvert_exporter": "python",
   "pygments_lexer": "ipython3",
   "version": "3.8.8"
  }
 },
 "nbformat": 4,
 "nbformat_minor": 5
}
